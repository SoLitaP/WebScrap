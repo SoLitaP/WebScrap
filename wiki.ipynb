{
 "cells": [
  {
   "cell_type": "code",
   "execution_count": 1,
   "id": "initial_id",
   "metadata": {
    "collapsed": true,
    "ExecuteTime": {
     "end_time": "2024-01-01T08:28:27.982989600Z",
     "start_time": "2024-01-01T08:28:27.872967800Z"
    }
   },
   "outputs": [],
   "source": [
    "import requests\n",
    "from bs4 import BeautifulSoup\n",
    "import csv\n"
   ]
  },
  {
   "cell_type": "code",
   "outputs": [],
   "source": [
    "\n",
    "file = []\n",
    "\n",
    "country_list = ['Afghanistan', 'Albania', 'Algeria', 'Andorra', 'Angola', 'Antigua and Barbuda', 'Argentina', 'Armenia', 'Australia', 'Austria', 'Azerbaijan', 'The Bahamas', 'Bahrain', 'Bangladesh', 'Barbados', 'Belarus', 'Bhutan', 'Bolivia', 'Bosnia and Herzegovina', 'Botswana', 'Brazil', 'Bulgaria', 'Burkina Faso', 'Cambodia', 'Cameroon', 'Canada', 'Cape Verde', 'Central African Republic', 'Chad', 'China', 'Colombia', 'Democratic Republic of the Congo', 'Costa Rica', 'Croatia', 'Cuba', 'Denmark', 'Dominica', 'Dominican Republic', 'East Timor', 'Ecuador', 'El Salvador', 'Equatorial Guinea', 'Eritrea', 'Estonia', 'Eswatini', 'Ethiopia', 'Finland', 'France', 'Gabon', 'The Gambia', 'Georgia (country)', 'Germany', 'Ghana', 'Grenada', 'Guatemala', 'Guinea', 'Guinea-Bissau', 'Guyana', 'Haiti', 'Honduras', 'Hungary', 'Iceland', 'India', 'Indonesia', 'Iran', 'Iraq', 'Republic of Ireland', 'Israel', 'Italy', 'Ivory Coast', 'Jamaica', 'Japan', 'Jordan', 'Kazakhstan', 'Kenya', 'Kiribati', 'Kuwait', 'Kyrgyzstan', 'Laos', 'Latvia', 'Lebanon', 'Liberia', 'Libya', 'Lithuania', 'Madagascar', 'Malawi', 'Malaysia', 'Maldives', 'Mali', 'Malta', 'Marshall Islands', 'Mauritania', 'Mauritius', 'Federated States of Micronesia', 'Moldova', 'Monaco', 'Mongolia', 'Mozambique', 'Myanmar', 'Namibia', 'Nauru', 'Nepal', 'Kingdom of the Netherlands', 'New Zealand', 'Nicaragua', 'Nigeria', 'North Korea', 'North Macedonia', 'Norway', 'Oman', 'Pakistan', 'Palau', 'Panama', 'Papua New Guinea', 'Paraguay', 'Poland', 'Portugal', 'Qatar', 'Romania', 'Russia', 'Rwanda', 'Saint Kitts and Nevis', 'Saint Lucia', 'Saint Vincent and the Grenadines', 'Samoa', 'San Marino', 'São Tomé and Príncipe', 'Saudi Arabia', 'Senegal', 'Serbia', 'Sierra Leone', 'Singapore', 'Slovakia', 'Slovenia', 'Solomon Islands', 'Somalia', 'South Africa', 'South Korea', 'South Sudan', 'Spain', 'Sri Lanka', 'Sudan', 'Suriname', 'Switzerland', 'Syria', 'Tajikistan', 'Tanzania', 'Thailand', 'Tonga', 'Trinidad and Tobago', 'Tunisia', 'Turkmenistan', 'Tuvalu', 'Uganda', 'Ukraine', 'United Arab Emirates', 'United States', 'Uruguay', 'Uzbekistan', 'Vanuatu', 'Venezuela', 'Vietnam', 'Zambia', 'Zimbabwe']\n"
   ],
   "metadata": {
    "collapsed": false,
    "ExecuteTime": {
     "end_time": "2024-01-01T14:35:05.155432200Z",
     "start_time": "2024-01-01T14:35:05.145602600Z"
    }
   },
   "id": "6a1e4580eeab77ce",
   "execution_count": 1
  },
  {
   "cell_type": "code",
   "outputs": [],
   "source": [
    "for loop in country_list:\n",
    "    page = requests.get(f\"https://en.wikipedia.org/wiki/{loop}\")\n",
    "    src = page.content\n",
    "    soup = BeautifulSoup(src, \"html.parser\")\n",
    "    country_name = soup.find(\"span\", class_=\"mw-page-title-main\")\n",
    "    if country_name:\n",
    "        country_name = country_name.text.strip()\n",
    "    country_flag = soup.find(\"a\", class_=\"mw-file-description\")\n",
    "    if country_flag:\n",
    "        country_flag = \"https://en.wikipedia.org\" + country_flag.get(\"href\")\n",
    "    country_capital = soup.find(\"td\", class_=\"infobox-data\").a\n",
    "    if country_capital:\n",
    "        country_capital = country_capital.text\n",
    "\n",
    "    file.append({\"Country Name\": country_name,\n",
    "                 \"Country Capital\": country_capital,\n",
    "                 \"Country Flag\": country_flag,\n",
    "                 })\n",
    "\n",
    "keys = file[0].keys()"
   ],
   "metadata": {
    "collapsed": false,
    "ExecuteTime": {
     "end_time": "2024-01-01T08:30:55.946127600Z",
     "start_time": "2024-01-01T08:28:36.929870900Z"
    }
   },
   "id": "c9d6c00387336cd2",
   "execution_count": 3
  },
  {
   "cell_type": "code",
   "outputs": [
    {
     "name": "stdout",
     "output_type": "stream",
     "text": [
      "File Created\n"
     ]
    }
   ],
   "source": [
    "with open(\"Countries.csv\", \"w\", newline=\"\", encoding=\"UTF-8\") as f:\n",
    "    writer = csv.DictWriter(f, keys)\n",
    "    writer.writeheader()\n",
    "    writer.writerows(file)\n",
    "    print(\"File Created\")"
   ],
   "metadata": {
    "collapsed": false,
    "ExecuteTime": {
     "end_time": "2024-01-01T08:31:48.761500300Z",
     "start_time": "2024-01-01T08:31:48.751318300Z"
    }
   },
   "id": "d8d2d705685b349",
   "execution_count": 4
  }
 ],
 "metadata": {
  "kernelspec": {
   "display_name": "Python 3",
   "language": "python",
   "name": "python3"
  },
  "language_info": {
   "codemirror_mode": {
    "name": "ipython",
    "version": 2
   },
   "file_extension": ".py",
   "mimetype": "text/x-python",
   "name": "python",
   "nbconvert_exporter": "python",
   "pygments_lexer": "ipython2",
   "version": "2.7.6"
  }
 },
 "nbformat": 4,
 "nbformat_minor": 5
}
