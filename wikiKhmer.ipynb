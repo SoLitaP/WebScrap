{
 "cells": [
  {
   "cell_type": "code",
   "execution_count": 3,
   "id": "initial_id",
   "metadata": {
    "collapsed": true,
    "ExecuteTime": {
     "end_time": "2024-01-01T13:53:19.657238600Z",
     "start_time": "2024-01-01T13:53:19.646311900Z"
    }
   },
   "outputs": [],
   "source": [
    "import requests\n",
    "from bs4 import BeautifulSoup\n",
    "import csv\n",
    "import time\n",
    "\n",
    "file = []\n",
    "\n",
    "country_list = ['ប្រទេសអង់គ្លេស', 'ប្រទេសបារាំង', 'ព្រះរាជាណាចក្រកម្ពុជា' ]  # Khmer names of countries\n",
    "\n"
   ]
  },
  {
   "cell_type": "code",
   "outputs": [
    {
     "name": "stdout",
     "output_type": "stream",
     "text": [
      "Error processing ប្រទេសអង់គ្លេស: 'NoneType' object has no attribute 'a'\n",
      "Error processing ប្រទេសបារាំង: 'NoneType' object has no attribute 'a'\n",
      "Error processing ព្រះរាជាណាចក្រកម្ពុជា: 'NoneType' object has no attribute 'a'\n"
     ]
    },
    {
     "ename": "IndexError",
     "evalue": "list index out of range",
     "output_type": "error",
     "traceback": [
      "\u001B[1;31m---------------------------------------------------------------------------\u001B[0m",
      "\u001B[1;31mIndexError\u001B[0m                                Traceback (most recent call last)",
      "Cell \u001B[1;32mIn[5], line 36\u001B[0m\n\u001B[0;32m     32\u001B[0m     \u001B[38;5;28;01mexcept\u001B[39;00m \u001B[38;5;167;01mException\u001B[39;00m \u001B[38;5;28;01mas\u001B[39;00m e:\n\u001B[0;32m     33\u001B[0m         \u001B[38;5;28mprint\u001B[39m(\u001B[38;5;124mf\u001B[39m\u001B[38;5;124m\"\u001B[39m\u001B[38;5;124mError processing \u001B[39m\u001B[38;5;132;01m{\u001B[39;00mcountry_name_khmer\u001B[38;5;132;01m}\u001B[39;00m\u001B[38;5;124m: \u001B[39m\u001B[38;5;132;01m{\u001B[39;00me\u001B[38;5;132;01m}\u001B[39;00m\u001B[38;5;124m\"\u001B[39m)\n\u001B[1;32m---> 36\u001B[0m keys \u001B[38;5;241m=\u001B[39m \u001B[43mfile\u001B[49m\u001B[43m[\u001B[49m\u001B[38;5;241;43m0\u001B[39;49m\u001B[43m]\u001B[49m\u001B[38;5;241m.\u001B[39mkeys()\n",
      "\u001B[1;31mIndexError\u001B[0m: list index out of range"
     ]
    }
   ],
   "source": [
    "for country_name_khmer in country_list:\n",
    "    try:\n",
    "        # Convert Khmer text to a URL-friendly format\n",
    "        country_name_url = requests.utils.quote(country_name_khmer)\n",
    "\n",
    "        url = f\"https://km.wikipedia.org/wiki/{country_name_url}\"\n",
    "        page = requests.get(url)\n",
    "        page.raise_for_status()  # Check for request errors\n",
    "        time.sleep(1)  # Implement rate limiting\n",
    "\n",
    "        soup = BeautifulSoup(page.content, \"html.parser\")\n",
    "\n",
    "        # Extract relevant information\n",
    "        country_flag_element = soup.find(\"a\", class_=\"mw-file-description\")\n",
    "        country_capital_element = soup.find(\"td\", class_=\"infobox-data\").a\n",
    "\n",
    "        if country_flag_element:\n",
    "            country_flag = \"https://km.wikipedia.org\" + country_flag_element.get(\"href\")\n",
    "        else:\n",
    "            country_flag = \"N/A\"\n",
    "\n",
    "        if country_capital_element:\n",
    "            country_capital = country_capital_element.text.strip()\n",
    "        else:\n",
    "            country_capital = \"N/A\"\n",
    "\n",
    "        file.append({\"Country Name (Khmer)\": country_name_khmer,\n",
    "                     \"Country Capital\": country_capital,\n",
    "                     \"Country Flag\": country_flag,\n",
    "                     })\n",
    "\n",
    "    except Exception as e:\n",
    "        print(f\"Error processing {country_name_khmer}: {e}\")\n",
    "\n",
    "\n",
    "keys = file[0].keys()\n",
    "\n",
    "\n"
   ],
   "metadata": {
    "collapsed": false,
    "ExecuteTime": {
     "end_time": "2024-01-01T13:55:11.865151500Z",
     "start_time": "2024-01-01T13:55:05.365407Z"
    }
   },
   "id": "752c6e07aedb4140",
   "execution_count": 5
  },
  {
   "cell_type": "code",
   "outputs": [
    {
     "ename": "NameError",
     "evalue": "name 'keys' is not defined",
     "output_type": "error",
     "traceback": [
      "\u001B[1;31m---------------------------------------------------------------------------\u001B[0m",
      "\u001B[1;31mNameError\u001B[0m                                 Traceback (most recent call last)",
      "Cell \u001B[1;32mIn[6], line 2\u001B[0m\n\u001B[0;32m      1\u001B[0m \u001B[38;5;28;01mwith\u001B[39;00m \u001B[38;5;28mopen\u001B[39m(\u001B[38;5;124m\"\u001B[39m\u001B[38;5;124mCountries_Khmer.csv\u001B[39m\u001B[38;5;124m\"\u001B[39m, \u001B[38;5;124m\"\u001B[39m\u001B[38;5;124mw\u001B[39m\u001B[38;5;124m\"\u001B[39m, newline\u001B[38;5;241m=\u001B[39m\u001B[38;5;124m\"\u001B[39m\u001B[38;5;124m\"\u001B[39m, encoding\u001B[38;5;241m=\u001B[39m\u001B[38;5;124m\"\u001B[39m\u001B[38;5;124mUTF-8\u001B[39m\u001B[38;5;124m\"\u001B[39m) \u001B[38;5;28;01mas\u001B[39;00m f:\n\u001B[1;32m----> 2\u001B[0m     writer \u001B[38;5;241m=\u001B[39m csv\u001B[38;5;241m.\u001B[39mDictWriter(f, \u001B[43mkeys\u001B[49m)\n\u001B[0;32m      3\u001B[0m     writer\u001B[38;5;241m.\u001B[39mwriteheader()\n\u001B[0;32m      4\u001B[0m     writer\u001B[38;5;241m.\u001B[39mwriterows(file)\n",
      "\u001B[1;31mNameError\u001B[0m: name 'keys' is not defined"
     ]
    }
   ],
   "source": [
    "with open(\"Countries_Khmer.csv\", \"w\", newline=\"\", encoding=\"UTF-8\") as f:\n",
    "    writer = csv.DictWriter(f, keys)\n",
    "    writer.writeheader()\n",
    "    writer.writerows(file)\n",
    "\n",
    "print(\"File Created\")"
   ],
   "metadata": {
    "collapsed": false,
    "ExecuteTime": {
     "end_time": "2024-01-01T13:55:17.411229Z",
     "start_time": "2024-01-01T13:55:17.388522900Z"
    }
   },
   "id": "ecbdfa49bba7b1f1",
   "execution_count": 6
  }
 ],
 "metadata": {
  "kernelspec": {
   "display_name": "Python 3",
   "language": "python",
   "name": "python3"
  },
  "language_info": {
   "codemirror_mode": {
    "name": "ipython",
    "version": 2
   },
   "file_extension": ".py",
   "mimetype": "text/x-python",
   "name": "python",
   "nbconvert_exporter": "python",
   "pygments_lexer": "ipython2",
   "version": "2.7.6"
  }
 },
 "nbformat": 4,
 "nbformat_minor": 5
}
